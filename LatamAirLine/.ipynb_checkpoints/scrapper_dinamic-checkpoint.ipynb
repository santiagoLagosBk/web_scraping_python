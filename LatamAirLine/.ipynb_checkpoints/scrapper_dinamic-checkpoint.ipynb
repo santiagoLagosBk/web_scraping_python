{
 "cells": [
  {
   "cell_type": "code",
   "execution_count": 37,
   "id": "97dc37c4",
   "metadata": {},
   "outputs": [],
   "source": [
    "import requests\n",
    "from bs4 import BeautifulSoup\n",
    "from selenium import webdriver\n",
    "from selenium.webdriver.common.by import By\n",
    "import time"
   ]
  },
  {
   "cell_type": "code",
   "execution_count": null,
   "id": "ca617997",
   "metadata": {},
   "outputs": [],
   "source": [
    "def get_conn(func):\n",
    "    \"\"\"\n",
    "        This is a whrapper decoration function, which its work will be create a request to the URL\n",
    "        func: That's means the normal function what call the function decorator @get_conn\n",
    "    \"\"\"\n",
    "    def wrapper(*args):\n",
    "        # link : example https://google.com\n",
    "        link = args[0]\n",
    "        response = requests.get(str(link))\n",
    "        \n",
    "        if response.status_code!=200:\n",
    "            raise ValueError(f'status code: {response.status_code}')\n",
    "        return func(response)\n",
    "    \n",
    "    return wrapper"
   ]
  },
  {
   "cell_type": "code",
   "execution_count": 18,
   "id": "f48e0827",
   "metadata": {},
   "outputs": [],
   "source": [
    "URL_TEST = \"https://www.trivago.com.co/?aDateRange%5Barr%5D=2021-12-25&aDateRange%5Bdep%5D=2021-12-31&aPriceRange%5Bfrom%5D=0&aPriceRange%5Bto%5D=0&iRoomType=7&aRooms%5B0%5D%5Badults%5D=2&cpt2=65524%2F200&hasList=1&hasMap=1&bIsSeoPage=0&sortingId=1&slideoutsPageItemId=&iGeoDistanceLimit=20000&address=&addressGeoCode=&offset=0&ra=&overlayMode=\""
   ]
  },
  {
   "cell_type": "code",
   "execution_count": 39,
   "id": "5f8bf1ff",
   "metadata": {},
   "outputs": [],
   "source": [
    "\n",
    "def get_page(request_link):\n",
    "    options = webdriver.ChromeOptions()\n",
    "    options.add_argument(\"--incognito\")\n",
    "    driver = webdriver.Chrome(executable_path=\"chromedriver\",options=options)\n",
    "    driver.get(request_link)\n",
    "    driver.maximize_window()\n",
    "    return driver\n",
    "\n",
    "driver = get_page(URL_TEST)\n",
    "time.sleep(2.4)\n",
    "search_buton = driver.find_element(By.XPATH,'//button[@class=\"flex\" and child::span[@class=\"inline-flex leading-none Icon_xsIcon__35fDQ transform\"]]')\n",
    "search_buton.click()"
   ]
  }
 ],
 "metadata": {
  "kernelspec": {
   "display_name": "latamenv",
   "language": "python",
   "name": "latamenv"
  },
  "language_info": {
   "codemirror_mode": {
    "name": "ipython",
    "version": 3
   },
   "file_extension": ".py",
   "mimetype": "text/x-python",
   "name": "python",
   "nbconvert_exporter": "python",
   "pygments_lexer": "ipython3",
   "version": "3.10.0"
  }
 },
 "nbformat": 4,
 "nbformat_minor": 5
}
