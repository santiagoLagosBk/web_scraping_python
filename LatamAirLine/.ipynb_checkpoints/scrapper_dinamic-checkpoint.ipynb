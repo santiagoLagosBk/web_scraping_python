{
 "cells": [
  {
   "cell_type": "code",
   "execution_count": 1,
   "id": "97dc37c4",
   "metadata": {},
   "outputs": [],
   "source": [
    "import requests\n",
    "from bs4 import BeautifulSoup\n",
    "from selenium import webdriver"
   ]
  },
  {
   "cell_type": "code",
   "execution_count": 3,
   "id": "ca617997",
   "metadata": {},
   "outputs": [],
   "source": [
    "def get_conn(func):\n",
    "    \"\"\"\n",
    "        This is a whrapper decoration function, which its work will be create a request to the URL\n",
    "        func: That's means the normal function what call the function decorator @get_conn\n",
    "    \"\"\"\n",
    "    def wrapper(*args):\n",
    "        # link : example https://google.com\n",
    "        link = args[0]\n",
    "        response = requests.get(str(link))\n",
    "        \n",
    "        if response.status_code!=200:\n",
    "            raise ValueError(f'status code: {response.status_code}')\n",
    "        return func(response)\n",
    "    \n",
    "    return wrapper"
   ]
  },
  {
   "cell_type": "code",
   "execution_count": 4,
   "id": "f48e0827",
   "metadata": {},
   "outputs": [],
   "source": [
    "URL_TEST = \"https://www.despegar.com.co/trip/accommodations/results/PC7cb2ed1c6cec44f89a25f31bd8f5cf4827323737?searchParams=RkgvQ0lUXzg1NC9DSVRfNDQzNC8yMDIxLTEyLTIwLzIwMjItMDEtMTgvQ0lUXzQ0MzQvMjAyMS0xMi0yMC8yMDIyLTAxLTE4LzJ8SDA6SCxGMTpGLFhTOlhT&flow=FH&tripItem=H0&stepNum=0&from=PSB&from=PSB&searchId=9bd8c413-8bd8-4128-a8c9-4993df408f82&nw=true\""
   ]
  },
  {
   "cell_type": "code",
   "execution_count": 12,
   "id": "5f8bf1ff",
   "metadata": {},
   "outputs": [],
   "source": [
    "\n",
    "def get_page(request_link):\n",
    "    options = webdriver.ChromeOptions()\n",
    "    options.add_argument(\"--incognito\")\n",
    "    driver = webdriver.Chrome(executable_path=\"chromedriver\",options=options)\n",
    "    return driver.get(request_link)\n",
    "\n",
    "get_page(URL_TEST)\n"
   ]
  }
 ],
 "metadata": {
  "kernelspec": {
   "display_name": "latamenv",
   "language": "python",
   "name": "latamenv"
  },
  "language_info": {
   "codemirror_mode": {
    "name": "ipython",
    "version": 3
   },
   "file_extension": ".py",
   "mimetype": "text/x-python",
   "name": "python",
   "nbconvert_exporter": "python",
   "pygments_lexer": "ipython3",
   "version": "3.10.0"
  }
 },
 "nbformat": 4,
 "nbformat_minor": 5
}
