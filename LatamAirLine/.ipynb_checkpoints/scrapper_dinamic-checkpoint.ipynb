{
 "cells": [
  {
   "cell_type": "code",
   "execution_count": 14,
   "id": "97dc37c4",
   "metadata": {},
   "outputs": [],
   "source": [
    "import re\n",
    "from selenium import webdriver\n",
    "from selenium.webdriver.common.by import By\n",
    "from selenium.common.exceptions import NoSuchElementException\n",
    "import time"
   ]
  },
  {
   "cell_type": "code",
   "execution_count": 15,
   "id": "f48e0827",
   "metadata": {},
   "outputs": [],
   "source": [
    "URL_TEST = \"https://www.despegar.com.co/trip/accommodations/results/PCe9d764480bdc42b69c2650406049325927326380?searchParams=RkgvQ0lUXzg1NC9DSVRfNDQzNC8yMDIxLTEyLTIwLzIwMjItMDEtMTgvQ0lUXzQ0MzQvMjAyMS0xMi0yMC8yMDIyLTAxLTE4LzJ8SDA6SCxGMTpGLFhTOlhT&flow=FH&tripItem=H0&stepNum=0&from=PSB&from=PSB&searchId=c6097b01-653d-48db-9918-18dc00c59ca3&nw=true\""
   ]
  },
  {
   "cell_type": "code",
   "execution_count": 17,
   "id": "5f8bf1ff",
   "metadata": {},
   "outputs": [
    {
     "data": {
      "text/plain": [
       "{'name': 'Hotel & Apartasuites Torre Poblado',\n",
       " 'price': '2.197.070',\n",
       " 'reservation': 'Últimas 3 habitaciones'}"
      ]
     },
     "execution_count": 17,
     "metadata": {},
     "output_type": "execute_result"
    }
   ],
   "source": [
    "\n",
    "def get_page(request_link):\n",
    "    options = webdriver.ChromeOptions()\n",
    "    options.add_argument(\"--incognito\")\n",
    "    driver = webdriver.Chrome(executable_path=\"chromedriver\",options=options)\n",
    "    driver.get(request_link)\n",
    "    driver.maximize_window()\n",
    "    return driver\n",
    "\n",
    "def get_hotels_attrs(hotel):\n",
    "    time.sleep(2.1)\n",
    "    name = hotel.find_element(By.XPATH,'.//span[@class=\"accommodation-name -eva-3-ellipsis\"]').text\n",
    "    try:\n",
    "        options_reservation = hotel.find_element(By.XPATH,'.//span[@class=\"driver-text\" and ancestor-or-self::span[@class=\"-j3 -urgent eva-3-driver\"]]').text\n",
    "    except NoSuchElementException:\n",
    "        options_reservation = hotel.find_element(By.XPATH,'.//span[@class=\"driver-text\" and ancestor-or-self::div[@class=\"driver-list-wrapper -eva-3-mb-md\"]]').text\n",
    "    price = hotel.find_element(By.XPATH,'.//div[@class=\"pricebox-value-container\"]//span[@class=\"main-value\"]').text\n",
    "    return dict(name = name,price = price, reservation = options_reservation)\n",
    "\n",
    "\n",
    "def get_hotels_content(driver):\n",
    "    hotels_contents = driver.find_elements(By.XPATH,'//div[@class = \"cluster-container -eva-3-shadow-line\"]')\n",
    "    hotels_contents = list(map(get_hotels_attrs,hotels_contents))\n",
    "    return hotels_contents\n",
    "\n",
    "\n",
    "def run():\n",
    "    driver = get_page(URL_TEST)\n",
    "    time.sleep(3.6)\n",
    "    return get_hotels_content(driver)\n",
    "\n",
    "\n",
    "result = run()\n",
    "for i in result:\n",
    "    print(i)\n",
    "\n",
    "\n"
   ]
  }
 ],
 "metadata": {
  "kernelspec": {
   "display_name": "latamenv",
   "language": "python",
   "name": "latamenv"
  },
  "language_info": {
   "codemirror_mode": {
    "name": "ipython",
    "version": 3
   },
   "file_extension": ".py",
   "mimetype": "text/x-python",
   "name": "python",
   "nbconvert_exporter": "python",
   "pygments_lexer": "ipython3",
   "version": "3.10.0"
  }
 },
 "nbformat": 4,
 "nbformat_minor": 5
}
