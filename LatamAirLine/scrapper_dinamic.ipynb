{
 "cells": [
  {
   "cell_type": "code",
   "execution_count": 8,
   "id": "97dc37c4",
   "metadata": {},
   "outputs": [],
   "source": [
    "import requests\n",
    "from bs4 import BeautifulSoup\n",
    "from selenium import webdriver\n",
    "from selenium.webdriver.common.by import By"
   ]
  },
  {
   "cell_type": "code",
   "execution_count": null,
   "id": "ca617997",
   "metadata": {},
   "outputs": [],
   "source": [
    "def get_conn(func):\n",
    "    \"\"\"\n",
    "        This is a whrapper decoration function, which its work will be create a request to the URL\n",
    "        func: That's means the normal function what call the function decorator @get_conn\n",
    "    \"\"\"\n",
    "    def wrapper(*args):\n",
    "        # link : example https://google.com\n",
    "        link = args[0]\n",
    "        response = requests.get(str(link))\n",
    "        \n",
    "        if response.status_code!=200:\n",
    "            raise ValueError(f'status code: {response.status_code}')\n",
    "        return func(response)\n",
    "    \n",
    "    return wrapper"
   ]
  },
  {
   "cell_type": "code",
   "execution_count": 18,
   "id": "f48e0827",
   "metadata": {},
   "outputs": [],
   "source": [
    "URL_TEST = \"https://www.trivago.com.co/?aDateRange%5Barr%5D=2021-12-25&aDateRange%5Bdep%5D=2021-12-31&aPriceRange%5Bfrom%5D=0&aPriceRange%5Bto%5D=0&iRoomType=7&aRooms%5B0%5D%5Badults%5D=2&cpt2=65524%2F200&hasList=1&hasMap=1&bIsSeoPage=0&sortingId=1&slideoutsPageItemId=&iGeoDistanceLimit=20000&address=&addressGeoCode=&offset=0&ra=&overlayMode=\""
   ]
  },
  {
   "cell_type": "code",
   "execution_count": 19,
   "id": "5f8bf1ff",
   "metadata": {},
   "outputs": [
    {
     "ename": "IndexError",
     "evalue": "list index out of range",
     "output_type": "error",
     "traceback": [
      "\u001b[1;31m---------------------------------------------------------------------------\u001b[0m",
      "\u001b[1;31mIndexError\u001b[0m                                Traceback (most recent call last)",
      "\u001b[1;32m~\\AppData\\Local\\Temp/ipykernel_13068/4079113781.py\u001b[0m in \u001b[0;36m<module>\u001b[1;34m\u001b[0m\n\u001b[0;32m     10\u001b[0m \u001b[1;31m#prices = list(map(lambda x:x.text,container_price))\u001b[0m\u001b[1;33m\u001b[0m\u001b[1;33m\u001b[0m\u001b[0m\n\u001b[0;32m     11\u001b[0m \u001b[0mhotels\u001b[0m \u001b[1;33m=\u001b[0m \u001b[0mdriver\u001b[0m\u001b[1;33m.\u001b[0m\u001b[0mfind_elements\u001b[0m\u001b[1;33m(\u001b[0m\u001b[0mBy\u001b[0m\u001b[1;33m.\u001b[0m\u001b[0mXPATH\u001b[0m\u001b[1;33m,\u001b[0m\u001b[1;34m'//ol[@class=\"hotel-list item-order itemlist hotellist clearfix\"]/child::li'\u001b[0m\u001b[1;33m)\u001b[0m\u001b[1;33m\u001b[0m\u001b[1;33m\u001b[0m\u001b[0m\n\u001b[1;32m---> 12\u001b[1;33m \u001b[0mhotel\u001b[0m \u001b[1;33m=\u001b[0m \u001b[0mhotels\u001b[0m\u001b[1;33m[\u001b[0m\u001b[1;36m1\u001b[0m\u001b[1;33m]\u001b[0m\u001b[1;33m\u001b[0m\u001b[1;33m\u001b[0m\u001b[0m\n\u001b[0m\u001b[0;32m     13\u001b[0m \u001b[0mhotel_name\u001b[0m \u001b[1;33m=\u001b[0m \u001b[0mhotels\u001b[0m\u001b[1;33m.\u001b[0m\u001b[0mfind_element\u001b[0m\u001b[1;33m(\u001b[0m\u001b[0mBy\u001b[0m\u001b[1;33m.\u001b[0m\u001b[0mXPATH\u001b[0m\u001b[1;33m,\u001b[0m\u001b[1;34m'/descendant-or-self::div[@class=\"item__name item__name--link\"]/h3/span'\u001b[0m\u001b[1;33m)\u001b[0m\u001b[1;33m.\u001b[0m\u001b[0mtext\u001b[0m\u001b[1;33m\u001b[0m\u001b[1;33m\u001b[0m\u001b[0m\n\u001b[0;32m     14\u001b[0m \u001b[0mhotel_name\u001b[0m\u001b[1;33m\u001b[0m\u001b[1;33m\u001b[0m\u001b[0m\n",
      "\u001b[1;31mIndexError\u001b[0m: list index out of range"
     ]
    }
   ],
   "source": [
    "\n",
    "def get_page(request_link):\n",
    "    options = webdriver.ChromeOptions()\n",
    "    options.add_argument(\"--incognito\")\n",
    "    driver = webdriver.Chrome(executable_path=\"chromedriver\",options=options)\n",
    "    driver.get(request_link)\n",
    "    return driver\n",
    "\n",
    "driver = get_page(URL_TEST)\n",
    "#container_price = driver.find_elements_by_xpath('//div[@class=\"eva-3-cluster-gallery -eva-3-bc-white -eva-3-shadow-line-hover\"]//div[@class=\"cluster-pricebox-container\"]//span[@class=\"main-value\"]')\n",
    "#prices = list(map(lambda x:x.text,container_price))\n",
    "hotels = driver.find_elements(By.XPATH,'//ol[@class=\"hotel-list item-order itemlist hotellist clearfix\"]/child::li')\n",
    "hotel = hotels[1]\n",
    "hotel_name = hotels.find_element(By.XPATH,'./descendant-or-self::div[@class=\"item__name item__name--link\"]/h3/span').text\n",
    "price\n"
   ]
  }
 ],
 "metadata": {
  "kernelspec": {
   "display_name": "latamenv",
   "language": "python",
   "name": "latamenv"
  },
  "language_info": {
   "codemirror_mode": {
    "name": "ipython",
    "version": 3
   },
   "file_extension": ".py",
   "mimetype": "text/x-python",
   "name": "python",
   "nbconvert_exporter": "python",
   "pygments_lexer": "ipython3",
   "version": "3.10.0"
  }
 },
 "nbformat": 4,
 "nbformat_minor": 5
}
